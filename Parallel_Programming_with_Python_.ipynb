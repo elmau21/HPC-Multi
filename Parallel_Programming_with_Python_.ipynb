{
  "nbformat": 4,
  "nbformat_minor": 0,
  "metadata": {
    "colab": {
      "provenance": []
    },
    "kernelspec": {
      "name": "python3",
      "display_name": "Python 3"
    },
    "language_info": {
      "name": "python"
    }
  },
  "cells": [
    {
      "cell_type": "markdown",
      "source": [
        "### Introduction to the Problem: Computing π via Numerical Integration\n",
        "\n",
        "The mathematical constant π (pi) is a fundamental element in various branches of science and engineering, representing the ratio of a circle's circumference to its diameter. An interesting and practical approach to approximate the value of π is by leveraging the concept of numerical integration. In this context, we utilize the geometrical representation of π as the area of a unit circle. To achieve an approximation, we compute the area under the curve of a quarter circle, which inherently relates to π.\n",
        "\n",
        "#### Mathematical Formulation:\n",
        "The function $$f(x) = \\sqrt{1 - x^2}$$ describes the upper half of a quarter circle for $$x$$ ranging from 0 to 1. The area under this curve can be approximated using Riemann sums, a fundamental concept in numerical integration. By subdividing the interval [0, 1] into $$N$$ equal parts, each of width $$\\Delta x = \\frac{1}{N}$$, and summing the areas of the rectangles under the curve at these intervals, we can estimate the area of the quarter circle, and hence π. The approximation of π is given by:\n",
        "\n",
        "$$\n",
        "\\frac{\\pi}{4} \\approx \\sum_{i=0}^{N-1} \\Delta x \\cdot f(x_i)\n",
        "$$\n",
        "\n",
        "where $$x_i = i \\cdot \\Delta x$$ represents the position of each interval.\n",
        "\n",
        "#### Computational Approach:\n",
        "To compute π using the above strategy, we implement three distinct programs in Python:\n",
        "\n",
        "1. **Serial Computation**:\n",
        "   - The first version of the program calculates π without any parallelization. This involves a straightforward implementation of the Riemann sum, iteratively computing the sum of $$f(x_i)$$ for each subdivision of the interval.\n",
        "\n",
        "2. **Parallel Computation Using Multiprocessing**:\n",
        "   - To enhance performance, the second version of the program employs the `multiprocessing` library in Python. This approach divides the task among multiple processes, each calculating a segment of the total sum. This is particularly beneficial on multi-core systems, where separate processes can compute concurrently.\n",
        "\n",
        "3. **Distributed Parallel Computation Using MPI**:\n",
        "   - The third version uses the `mpi4py` library to implement distributed parallel computing. This method is well-suited for environments where computations need to be distributed across different nodes in a cluster. Each node calculates a portion of the sum, and the results are then aggregated to derive the final approximation of π.\n",
        "\n",
        "This structured approach, progressing from a single-threaded to a multi-threaded and then to a distributed system, not only showcases the potential speed improvements but also highlights the scalability of numerical methods in computational mathematics. The aim is to efficiently approximate π, leveraging different computational strategies to cater to varying hardware capabilities and performance objectives.\n",
        "\n"
      ],
      "metadata": {
        "id": "THuNHYivClSb"
      }
    },
    {
      "cell_type": "code",
      "source": [
        "!pip install mpi4py"
      ],
      "metadata": {
        "colab": {
          "base_uri": "https://localhost:8080/"
        },
        "id": "t6aZ759mJW3s",
        "outputId": "c0c22b05-754c-4cd0-a09f-5aa88a77a7d2"
      },
      "execution_count": null,
      "outputs": [
        {
          "output_type": "stream",
          "name": "stdout",
          "text": [
            "Requirement already satisfied: mpi4py in /usr/local/lib/python3.10/dist-packages (3.1.6)\n"
          ]
        }
      ]
    },
    {
      "cell_type": "markdown",
      "source": [
        "# Solutions"
      ],
      "metadata": {
        "id": "vFbAt2eyCvFZ"
      }
    },
    {
      "cell_type": "code",
      "source": [
        "import cProfile\n",
        "import math\n",
        "from multiprocessing import Pool\n",
        "from mpi4py import MPI\n",
        "import numpy as np\n",
        "import os"
      ],
      "metadata": {
        "id": "n_PVWzslDHaV"
      },
      "execution_count": null,
      "outputs": []
    },
    {
      "cell_type": "code",
      "source": [
        "\n",
        "\n",
        "def f(x):\n",
        "    return math.sqrt(1 - x**2)\n",
        "\n",
        "\n",
        "#This function approximates π by calculating the area under the curve f(x) using a simple Riemann sum approach, without any parallel processing.\n",
        "def compute_pi(N):\n",
        "    delta_x = 1.0 / N\n",
        "    total_sum = 0\n",
        "    for i in range(N):\n",
        "        xi = i * delta_x\n",
        "        total_sum += f(xi)\n",
        "    pi_approx = 4 * total_sum * delta_x\n",
        "    return pi_approx\n",
        "\n",
        "def partial_sum(args):\n",
        "    start, end, delta_x = args\n",
        "    total_sum = 0\n",
        "    for i in range(start, end):\n",
        "        xi = i * delta_x\n",
        "        total_sum += f(xi)\n",
        "    return total_sum\n",
        "\n",
        "def compute_pi_parallel(N, num_processes):\n",
        "    delta_x = 1.0 / N\n",
        "    pool = Pool(processes=min(num_processes, os.cpu_count())) #A pool of worker processes is created, with the number of processes limited by either the desired number or the CPU core count.\n",
        "\n",
        "    #The range [0, N] is divided into chunks, and each chunk is assigned to a process.\n",
        "    partition_sizes = N // num_processes\n",
        "    tasks = [(i * partition_sizes, (i + 1) * partition_sizes, delta_x) for i in range(num_processes)]\n",
        "    results = pool.map(partial_sum, tasks)\n",
        "    pool.close()\n",
        "    pool.join()\n",
        "    pi_approx = 4 * sum(results) * delta_x\n",
        "    return pi_approx\n",
        "\n",
        "def compute_pi_mpi(N):\n",
        "    comm = MPI.COMM_WORLD\n",
        "    size = comm.Get_size()\n",
        "    rank = comm.Get_rank()\n",
        "     #Each node computes a segment of the sum using vectorized operations via NumPy for efficiency.\n",
        "    delta_x = 1.0 / N\n",
        "    local_n = N // size\n",
        "    local_start = rank * local_n\n",
        "    local_end = (rank + 1) * local_n if rank != size - 1 else N\n",
        "\n",
        "    # Each process computes its partial sum using NumPy for faster computation\n",
        "    x_values = np.linspace(local_start * delta_x, local_end * delta_x, num=local_end-local_start, endpoint=False)\n",
        "    local_sum = np.sum(np.sqrt(1 - x_values**2) * delta_x)\n",
        "    total_sum = comm.reduce(local_sum, op=MPI.SUM, root=0) #The root node computes the final approximation of π by multiplying the total sum by 4.\n",
        "\n",
        "    if rank == 0:\n",
        "        pi_approx = 4 * total_sum\n",
        "        return pi_approx"
      ],
      "metadata": {
        "id": "RnZ_vHjODB99"
      },
      "execution_count": null,
      "outputs": []
    },
    {
      "cell_type": "markdown",
      "source": [
        "#Profiling   \n",
        "\n",
        "The use of .prof files in this context provides a convenient and effective way to store and analyze the results of code profiling, making it easier to identify areas of improvement and optimize software performance."
      ],
      "metadata": {
        "id": "poNVKUvsDffb"
      }
    },
    {
      "cell_type": "code",
      "source": [
        "def profile_serial_computation(N):\n",
        "    print(\"Profiling serial computation of pi...\")\n",
        "    cProfile.runctx('compute_pi(N)', globals(), locals(), filename=\"serial_profile.prof\")\n",
        "    pi_approx = compute_pi(N)\n",
        "    print(f\"Approximated value of pi: {pi_approx}\")\n",
        "\n",
        "def profile_multiprocessing_computation(N, num_processes):\n",
        "    print(\"Profiling multiprocessing computation of pi...\")\n",
        "    cProfile.runctx('compute_pi_parallel(N, num_processes)', globals(), locals(), filename=\"multiprocessing_profile.prof\")\n",
        "    pi_approx = compute_pi_parallel(N, num_processes)\n",
        "    print(f\"Approximated value of pi using multiprocessing: {pi_approx}\")\n",
        "\n",
        "def profile_mpi_computation(N):\n",
        "    comm = MPI.COMM_WORLD\n",
        "    rank = comm.Get_rank()\n",
        "\n",
        "    if rank == 0:\n",
        "        print(\"Profiling MPI computation of pi...\")\n",
        "        profiler = cProfile.runctx('compute_pi_mpi(N)', globals(), locals(), filename=\"mpi_profile.prof\")\n",
        "    pi_approx_mpi = compute_pi_mpi(N)\n",
        "    print(f\"Approximated value of pi using mpi : {pi_approx_mpi}\")"
      ],
      "metadata": {
        "id": "ysY-esSoDs2W"
      },
      "execution_count": null,
      "outputs": []
    },
    {
      "cell_type": "code",
      "source": [
        "if __name__ == \"__main__\":\n",
        "    N = 1000000  # Number of intervals\n",
        "    num_processes = 4  # Number of parallel processes\n",
        "\n",
        "    # Profile serial computation\n",
        "    profile_serial_computation(N)\n",
        "\n",
        "    # Profile multiprocessing computation\n",
        "    profile_multiprocessing_computation(N, num_processes)\n",
        "\n",
        "    # Profile mpi computation\n",
        "    profile_mpi_computation(N)"
      ],
      "metadata": {
        "colab": {
          "base_uri": "https://localhost:8080/"
        },
        "id": "M7WL7vCODLVj",
        "outputId": "77f6392e-966b-4574-a6ad-e8455a98d1a7"
      },
      "execution_count": null,
      "outputs": [
        {
          "output_type": "stream",
          "name": "stdout",
          "text": [
            "Profiling serial computation of pi...\n",
            "Approximated value of pi: 3.141594652413976\n",
            "Profiling multiprocessing computation of pi...\n",
            "Approximated value of pi using multiprocessing: 3.1415946524138474\n",
            "Profiling MPI computation of pi...\n",
            "Approximated value of pi using mpi : 3.1415946524138105\n"
          ]
        }
      ]
    },
    {
      "cell_type": "code",
      "source": [
        "import pstats\n",
        "import matplotlib.pyplot as plt\n",
        "\n",
        "def extract_top_functions(stats, number=10):\n",
        "    # This will strip the directory paths from file names in the stats\n",
        "    stats.strip_dirs()\n",
        "    # Sort the statistics by the total time spent in the function\n",
        "    stats.sort_stats('tottime')\n",
        "    # Print the top 'number' entries to the standard output and capture it\n",
        "    stats.print_stats(number)\n",
        "\n",
        "    # Create lists to store function names and total times\n",
        "    functions = []\n",
        "    total_times = []\n",
        "\n",
        "    # The data is temporarily written to stdout, so we need to redirect it to capture the output\n",
        "    from io import StringIO\n",
        "    import sys\n",
        "    old_stdout = sys.stdout\n",
        "    sys.stdout = StringIO()\n",
        "\n",
        "    stats.print_stats(number)\n",
        "    output = sys.stdout.getvalue()\n",
        "    sys.stdout = old_stdout\n",
        "\n",
        "    # Process the captured output to extract function names and total times\n",
        "    lines = output.split('\\n')\n",
        "    for line in lines[5:-3]:  # Skip the header and summary lines\n",
        "        parts = line.split()\n",
        "        if len(parts) >= 6:\n",
        "            time = float(parts[2])\n",
        "            function = ' '.join(parts[5:])\n",
        "            functions.append(function)\n",
        "            total_times.append(time)\n",
        "\n",
        "    # Print the captured output\n",
        "    #print(output)\n",
        "\n",
        "    #return functions, total_times\n",
        "\n",
        "# Load the profile data\n",
        "serial_profile = pstats.Stats(\"serial_profile.prof\")\n",
        "multiprocessing_profile = pstats.Stats(\"multiprocessing_profile.prof\")\n",
        "mpi_profile = pstats.Stats(\"mpi_profile.prof\")\n",
        "\n",
        "# Extract top 10 functions and times for serial computation\n",
        "serial_total_times = extract_top_functions(serial_profile)\n",
        "\n",
        "# Extract top 10 functions and times for multiprocessing computation\n",
        "multiprocessing_total_times = extract_top_functions(multiprocessing_profile)\n",
        "\n",
        "# Extract top 10 functions and times for MPI computation\n",
        "mpi_functions = extract_top_functions(mpi_profile)\n",
        "\n"
      ],
      "metadata": {
        "id": "eimBXEsHETMF",
        "colab": {
          "base_uri": "https://localhost:8080/"
        },
        "outputId": "26d1f0dc-8f86-4f79-c626-ff3e1f7ce84e"
      },
      "execution_count": null,
      "outputs": [
        {
          "output_type": "stream",
          "name": "stdout",
          "text": [
            "Thu Apr 18 17:03:43 2024    serial_profile.prof\n",
            "\n",
            "         2000004 function calls in 2.122 seconds\n",
            "\n",
            "   Ordered by: internal time\n",
            "\n",
            "   ncalls  tottime  percall  cumtime  percall filename:lineno(function)\n",
            "  1000000    1.069    0.000    1.273    0.000 <ipython-input-67-d77614c299af>:1(f)\n",
            "        1    0.849    0.849    2.122    2.122 <ipython-input-67-d77614c299af>:6(compute_pi)\n",
            "  1000000    0.204    0.000    0.204    0.000 {built-in method math.sqrt}\n",
            "        1    0.000    0.000    2.122    2.122 {built-in method builtins.exec}\n",
            "        1    0.000    0.000    2.122    2.122 <string>:1(<module>)\n",
            "        1    0.000    0.000    0.000    0.000 {method 'disable' of '_lsprof.Profiler' objects}\n",
            "\n",
            "\n",
            "Thu Apr 18 17:03:43 2024    serial_profile.prof\n",
            "\n",
            "         2000004 function calls in 2.122 seconds\n",
            "\n",
            "   Ordered by: internal time\n",
            "\n",
            "   ncalls  tottime  percall  cumtime  percall filename:lineno(function)\n",
            "  1000000    1.069    0.000    1.273    0.000 <ipython-input-67-d77614c299af>:1(f)\n",
            "        1    0.849    0.849    2.122    2.122 <ipython-input-67-d77614c299af>:6(compute_pi)\n",
            "  1000000    0.204    0.000    0.204    0.000 {built-in method math.sqrt}\n",
            "        1    0.000    0.000    2.122    2.122 {built-in method builtins.exec}\n",
            "        1    0.000    0.000    2.122    2.122 <string>:1(<module>)\n",
            "        1    0.000    0.000    0.000    0.000 {method 'disable' of '_lsprof.Profiler' objects}\n",
            "\n",
            "\n",
            "Thu Apr 18 17:03:44 2024    multiprocessing_profile.prof\n",
            "\n",
            "         887 function calls in 0.792 seconds\n",
            "\n",
            "   Ordered by: internal time\n",
            "   List reduced from 162 to 10 due to restriction <10>\n",
            "\n",
            "   ncalls  tottime  percall  cumtime  percall filename:lineno(function)\n",
            "       31    0.758    0.024    0.758    0.024 {method 'acquire' of '_thread.lock' objects}\n",
            "        2    0.014    0.007    0.014    0.007 {built-in method posix.fork}\n",
            "        3    0.008    0.003    0.008    0.003 {built-in method posix.waitpid}\n",
            "        8    0.005    0.001    0.005    0.001 socket.py:543(send)\n",
            "        2    0.001    0.000    0.015    0.008 popen_fork.py:62(_launch)\n",
            "        1    0.000    0.000    0.029    0.029 pool.py:183(__init__)\n",
            "        3    0.000    0.000    0.000    0.000 util.py:186(__init__)\n",
            "        6    0.000    0.000    0.001    0.000 synchronize.py:50(__init__)\n",
            "        2    0.000    0.000    0.021    0.011 process.py:110(start)\n",
            "        3    0.000    0.000    0.000    0.000 {built-in method _thread.start_new_thread}\n",
            "\n",
            "\n",
            "Thu Apr 18 17:03:44 2024    multiprocessing_profile.prof\n",
            "\n",
            "         887 function calls in 0.792 seconds\n",
            "\n",
            "   Ordered by: internal time\n",
            "   List reduced from 162 to 10 due to restriction <10>\n",
            "\n",
            "   ncalls  tottime  percall  cumtime  percall filename:lineno(function)\n",
            "       31    0.758    0.024    0.758    0.024 {method 'acquire' of '_thread.lock' objects}\n",
            "        2    0.014    0.007    0.014    0.007 {built-in method posix.fork}\n",
            "        3    0.008    0.003    0.008    0.003 {built-in method posix.waitpid}\n",
            "        8    0.005    0.001    0.005    0.001 socket.py:543(send)\n",
            "        2    0.001    0.000    0.015    0.008 popen_fork.py:62(_launch)\n",
            "        1    0.000    0.000    0.029    0.029 pool.py:183(__init__)\n",
            "        3    0.000    0.000    0.000    0.000 util.py:186(__init__)\n",
            "        6    0.000    0.000    0.001    0.000 synchronize.py:50(__init__)\n",
            "        2    0.000    0.000    0.021    0.011 process.py:110(start)\n",
            "        3    0.000    0.000    0.000    0.000 {built-in method _thread.start_new_thread}\n",
            "\n",
            "\n",
            "Thu Apr 18 17:03:44 2024    mpi_profile.prof\n",
            "\n",
            "         28 function calls in 0.025 seconds\n",
            "\n",
            "   Ordered by: internal time\n",
            "   List reduced from 26 to 10 due to restriction <10>\n",
            "\n",
            "   ncalls  tottime  percall  cumtime  percall filename:lineno(function)\n",
            "        1    0.012    0.012    0.024    0.024 <ipython-input-67-d77614c299af>:36(compute_pi_mpi)\n",
            "        1    0.008    0.008    0.008    0.008 {built-in method numpy.arange}\n",
            "        1    0.002    0.002    0.010    0.010 function_base.py:24(linspace)\n",
            "        1    0.001    0.001    0.025    0.025 <string>:1(<module>)\n",
            "        1    0.001    0.001    0.001    0.001 {method 'reduce' of 'numpy.ufunc' objects}\n",
            "        1    0.000    0.000    0.000    0.000 {method 'reduce' of 'mpi4py.MPI.Comm' objects}\n",
            "        1    0.000    0.000    0.025    0.025 {built-in method builtins.exec}\n",
            "        1    0.000    0.000    0.001    0.001 fromnumeric.py:71(_wrapreduction)\n",
            "        1    0.000    0.000    0.001    0.001 fromnumeric.py:2177(sum)\n",
            "        2    0.000    0.000    0.000    0.000 {built-in method numpy.asanyarray}\n",
            "\n",
            "\n",
            "Thu Apr 18 17:03:44 2024    mpi_profile.prof\n",
            "\n",
            "         28 function calls in 0.025 seconds\n",
            "\n",
            "   Ordered by: internal time\n",
            "   List reduced from 26 to 10 due to restriction <10>\n",
            "\n",
            "   ncalls  tottime  percall  cumtime  percall filename:lineno(function)\n",
            "        1    0.012    0.012    0.024    0.024 <ipython-input-67-d77614c299af>:36(compute_pi_mpi)\n",
            "        1    0.008    0.008    0.008    0.008 {built-in method numpy.arange}\n",
            "        1    0.002    0.002    0.010    0.010 function_base.py:24(linspace)\n",
            "        1    0.001    0.001    0.025    0.025 <string>:1(<module>)\n",
            "        1    0.001    0.001    0.001    0.001 {method 'reduce' of 'numpy.ufunc' objects}\n",
            "        1    0.000    0.000    0.000    0.000 {method 'reduce' of 'mpi4py.MPI.Comm' objects}\n",
            "        1    0.000    0.000    0.025    0.025 {built-in method builtins.exec}\n",
            "        1    0.000    0.000    0.001    0.001 fromnumeric.py:71(_wrapreduction)\n",
            "        1    0.000    0.000    0.001    0.001 fromnumeric.py:2177(sum)\n",
            "        2    0.000    0.000    0.000    0.000 {built-in method numpy.asanyarray}\n",
            "\n",
            "\n"
          ]
        }
      ]
    },
    {
      "cell_type": "markdown",
      "source": [
        "# Visualization of each implementation"
      ],
      "metadata": {
        "id": "udR7Uu45Dm3d"
      }
    },
    {
      "cell_type": "code",
      "source": [
        "serial_profile = pstats.Stats(\"serial_profile.prof\")\n",
        "multiprocessing_profile = pstats.Stats(\"multiprocessing_profile.prof\")\n",
        "mpi_profile = pstats.Stats(\"mpi_profile.prof\")\n",
        "\n",
        "# Function to extract total time from profile stats\n",
        "def extract_total_time(profile):\n",
        "    profile.strip_dirs().sort_stats('time')\n",
        "    return profile.total_tt\n",
        "\n",
        "# Extract total time for serial, multiprocessing, and mpi computation\n",
        "serial_time = extract_total_time(serial_profile)\n",
        "multiprocessing_time = extract_total_time(multiprocessing_profile)\n",
        "mpi_time = extract_total_time(mpi_profile)\n",
        "\n",
        "# Plotting the times\n",
        "methods = ['Serial', 'Multiprocessing', 'MPI']\n",
        "times = [serial_time, multiprocessing_time, mpi_time]\n",
        "\n",
        "plt.figure(figsize=(10, 6))\n",
        "plt.bar(methods, times, color=['blue', 'green', 'red'])\n",
        "plt.title('Comparison of Execution Times')\n",
        "plt.xlabel('Method')\n",
        "plt.ylabel('Total Execution Time (seconds)')\n",
        "plt.show()"
      ],
      "metadata": {
        "id": "j1qoxaxcC9Wy",
        "colab": {
          "base_uri": "https://localhost:8080/",
          "height": 564
        },
        "outputId": "9b2e81e3-c8d5-4607-fa5f-08e9d98a251b"
      },
      "execution_count": null,
      "outputs": [
        {
          "output_type": "display_data",
          "data": {
            "text/plain": [
              "<Figure size 1000x600 with 1 Axes>"
            ],
            "image/png": "[encoded data removed]"
          },
          "metadata": {}
        }
      ]
    }
  ]
}